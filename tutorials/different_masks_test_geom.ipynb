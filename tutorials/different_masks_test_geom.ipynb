{
 "cells": [
  {
   "cell_type": "code",
   "execution_count": 2,
   "id": "eee99084",
   "metadata": {},
   "outputs": [],
   "source": [
    "import OOPAO\n",
    "import tomoAO\n",
    "\n",
    "\n",
    "import matplotlib.pyplot as plt\n",
    "import numpy as np\n",
    "\n",
    "from scipy.io import savemat, loadmat\n",
    "\n"
   ]
  },
  {
   "cell_type": "code",
   "execution_count": null,
   "id": "85fd3ac8",
   "metadata": {},
   "outputs": [
    {
     "ename": "",
     "evalue": "",
     "output_type": "error",
     "traceback": [
      "\u001b[1;31mnotebook controller is DISPOSED. \n",
      "\u001b[1;31mView Jupyter <a href='command:jupyter.viewOutput'>log</a> for further details."
     ]
    },
    {
     "ename": "",
     "evalue": "",
     "output_type": "error",
     "traceback": [
      "\u001b[1;31mnotebook controller is DISPOSED. \n",
      "\u001b[1;31mView Jupyter <a href='command:jupyter.viewOutput'>log</a> for further details."
     ]
    }
   ],
   "source": [
    "ao_mode = \"MLAO\"\n",
    "\n",
    "config_dir = \"./\"\n",
    "config_file = \"config_keck.ini\"\n",
    "\n",
    "config_vars = tomoAO.IO.load_from_ini(config_file, ao_mode=ao_mode,config_dir=config_dir)\n"
   ]
  },
  {
   "cell_type": "code",
   "execution_count": null,
   "id": "8653a894",
   "metadata": {},
   "outputs": [
    {
     "name": "stdout",
     "output_type": "stream",
     "text": [
      "\n",
      "------------- Source --------------\n",
      "Source                   |   LGS   \n",
      "Wavelength [m]           | 5.9e-07 \n",
      "Zenith [arcsec]          |  0.00   \n",
      "Azimuth [°]              |  0.00   \n",
      "Altitude [m]             |90000.00 \n",
      "Magnitude                |  8.89   \n",
      "Flux [photon/m²/s]       | 2.5e+06 \n",
      "Coordinates [arcsec,deg] | [0,0.0]\n",
      "-----------------------------------\n",
      "\n",
      "\n",
      "--------------------------------- Asterism ---------------------------------\n",
      " Source | Wavelength | Zenith | Azimuth | Altitude | Magnitude |   Flux    |\n",
      "        |    [m]     |[arcsec]|   [°]   |   [m]    |           | [ph/m²/s] |\n",
      "\u001b[00m  1-LGS |  5.9e-07   |  0.00  |  0.00   | 90000.00 |   8.89    |  2.5e+06  |\n",
      "\u001b[00m----------------------------------------------------------------------------\n",
      "\n"
     ]
    },
    {
     "ename": "",
     "evalue": "",
     "output_type": "error",
     "traceback": [
      "\u001b[1;31mnotebook controller is DISPOSED. \n",
      "\u001b[1;31mView Jupyter <a href='command:jupyter.viewOutput'>log</a> for further details."
     ]
    },
    {
     "ename": "",
     "evalue": "",
     "output_type": "error",
     "traceback": [
      "\u001b[1;31mnotebook controller is DISPOSED. \n",
      "\u001b[1;31mView Jupyter <a href='command:jupyter.viewOutput'>log</a> for further details."
     ]
    }
   ],
   "source": [
    "from OOPAO.Source import Source\n",
    "from OOPAO.Asterism import Asterism\n",
    "\n",
    "optBand = config_vars[\"lgs_opticalBand\"]\n",
    "magnitude = config_vars[\"lgs_magnitude\"]\n",
    "lgs_zenith = config_vars[\"lgs_zenith\"]\n",
    "lgs_azimuth = config_vars[\"lgs_azimuth\"]\n",
    "lgs_altitude = config_vars[\"lgs_altitude\"]\n",
    "\n",
    "n_lgs = config_vars[\"n_lgs\"]\n",
    "\n",
    "fwhm_spot = 0.5 # arcsec\n",
    "\n",
    "# Na Profile\n",
    "n = 11 # sampling of the Na Profile\n",
    "Na_profile = np.zeros([2,n])\n",
    "Na_profile[0,:] = np.linspace(80000,100000,n) # altitude in m of the Na layer\n",
    "Na_profile[1,:] = 1/n # Na density profile, here considered to be uniform\n",
    "\n",
    "theta = np.linspace(0,360, n_lgs,endpoint=False) #deg\n",
    "\n",
    "zenith = config_vars[\"lgs_zenith\"][0]\n",
    "\n",
    "lgsAst = Asterism([Source(optBand=optBand,\n",
    "                  magnitude=magnitude,\n",
    "                  laser_coordinates=[np.cos(np.deg2rad(i_theta))*13.5/2,np.sin(np.deg2rad(i_theta))*13.5/2], \n",
    "                  Na_profile=Na_profile,\n",
    "                  FWHM_spot_up= fwhm_spot,\n",
    "                  coordinates = [zenith,i_theta])\n",
    "                  for i_theta in theta])\n"
   ]
  },
  {
   "cell_type": "code",
   "execution_count": null,
   "id": "f84c7c3d",
   "metadata": {},
   "outputs": [
    {
     "name": "stdout",
     "output_type": "stream",
     "text": [
      "\n",
      "------------ Telescope -------------\n",
      "Diameter [m]             |  13.50   \n",
      "Resolution [px]          |   288    \n",
      "Pixel size [m]           |   0.05   \n",
      "Surface [m²]             |   0.05   \n",
      "Central obstruction [%]  |    24    \n",
      "Pixels in pupil          |  61552   \n",
      "Field of view [arcsec]   |  20.00   \n",
      "------------------------------------\n",
      "\n",
      "\u001b[01m\u001b[33mOOPAO Warning: \n",
      "A new pupil is now considered, its reflectivity is considered to be uniform. Assign the proper reflectivity map to tel.pupilReflectivity if required.\u001b[0m\n"
     ]
    },
    {
     "data": {
      "text/plain": [
       "<matplotlib.image.AxesImage at 0x7a60c7fb58a0>"
      ]
     },
     "execution_count": 4,
     "metadata": {},
     "output_type": "execute_result"
    },
    {
     "data": {
      "image/png": "[encoded data removed]",
      "text/plain": [
       "<Figure size 640x480 with 1 Axes>"
      ]
     },
     "metadata": {},
     "output_type": "display_data"
    },
    {
     "ename": "",
     "evalue": "",
     "output_type": "error",
     "traceback": [
      "\u001b[1;31mnotebook controller is DISPOSED. \n",
      "\u001b[1;31mView Jupyter <a href='command:jupyter.viewOutput'>log</a> for further details."
     ]
    },
    {
     "ename": "",
     "evalue": "",
     "output_type": "error",
     "traceback": [
      "\u001b[1;31mnotebook controller is DISPOSED. \n",
      "\u001b[1;31mView Jupyter <a href='command:jupyter.viewOutput'>log</a> for further details."
     ]
    }
   ],
   "source": [
    "from OOPAO.Telescope import Telescope\n",
    "\n",
    "\n",
    "sensing_wavelength  = lgsAst.src[0].wavelength           # sensing wavelength of the WFS, read from the ngs object\n",
    "n_subaperture       = config_vars[\"nSubaperture\"]        # number of subaperture across the diameter\n",
    "diameter            = config_vars[\"diameter\"]            # diameter of the support of the phase screens in [m]\n",
    "resolution          = config_vars[\"resolution\"]          # resolution of the phase screens in pixels\n",
    "obs_ratio           = config_vars[\"centralObstruction\"]  # central obstruction in fraction of the telescope diameter\n",
    "sampling_time       = config_vars[\"samplingTime\"]        # sampling time of the AO loop in [s]\n",
    "fieldOfViewInArcsec = config_vars[\"fieldOfViewInArcsec\"] # field of view of the telescope (arcsec)\n",
    "\n",
    "\n",
    "tel = Telescope(diameter          = diameter,\n",
    "               resolution         = resolution,\n",
    "               centralObstruction = obs_ratio,\n",
    "               samplingTime       = sampling_time,\n",
    "               fov                = fieldOfViewInArcsec)\n",
    "\n",
    "\n",
    "pupil_data = loadmat(config_vars[\"tel_pupil\"])\n",
    "pupil = pupil_data['pup'] \n",
    "\n",
    "tel.pupil = pupil\n",
    "\n",
    "plt.imshow(tel.pupil)"
   ]
  },
  {
   "cell_type": "code",
   "execution_count": null,
   "id": "a4f84587",
   "metadata": {},
   "outputs": [
    {
     "name": "stdout",
     "output_type": "stream",
     "text": [
      "Creation of layer1/1 ...\n",
      "-> Computing the initial phase screen...\n",
      "initial phase screen : 0.034714460372924805 s\n",
      "ZZt.. : 7.884612560272217 s\n",
      "ZXt.. : 1.628434181213379 s\n",
      "XXt.. : 0.8016791343688965 s\n",
      "Done!\n",
      "Updating the Atmosphere covariance matrices...\n",
      "\n",
      "------------------------ Atmosphere -------------------------\n",
      " Layer | Direction | Speed | Altitude | Frac Cn² | Diameter |\n",
      "       |    [°]    | [m/s] |   [m]    |   [%]    |   [m]    |\n",
      "\u001b[00m   1   |     0     |  5.0  |  1e+04   |   100    |  14.672  |\n",
      "\u001b[00m=============================================================\n",
      "r0 @ 500 nm [m] |   0.16   \n",
      "L0 [m]          |   50.0   \n",
      "Tau0 [s]        |  0.0099  \n",
      "V0 [m/s]        |   5.00   \n",
      "Frequency [Hz]  |  200.0   \n",
      "-------------------------------------------------------------\n",
      "\n"
     ]
    },
    {
     "ename": "",
     "evalue": "",
     "output_type": "error",
     "traceback": [
      "\u001b[1;31mnotebook controller is DISPOSED. \n",
      "\u001b[1;31mView Jupyter <a href='command:jupyter.viewOutput'>log</a> for further details."
     ]
    },
    {
     "ename": "",
     "evalue": "",
     "output_type": "error",
     "traceback": [
      "\u001b[1;31mnotebook controller is DISPOSED. \n",
      "\u001b[1;31mView Jupyter <a href='command:jupyter.viewOutput'>log</a> for further details."
     ]
    }
   ],
   "source": [
    "from OOPAO.Atmosphere import Atmosphere\n",
    "\n",
    "r0 = config_vars[\"r0\"]\n",
    "L0 = config_vars[\"L0\"]\n",
    "\n",
    "fractionnalR0 = config_vars[\"fractionnalR0\"]\n",
    "windSpeed = config_vars[\"windSpeed\"]\n",
    "windDirection = config_vars[\"windDirection\"]\n",
    "altitude = config_vars[\"altitude\"]\n",
    "\n",
    "\n",
    "\n",
    "atm = Atmosphere(telescope      = tel,\n",
    "                 src            = lgsAst,\n",
    "                 r0             = r0,\n",
    "                 L0             = L0,\n",
    "                 fractionalR0   = fractionnalR0,\n",
    "                 altitude       = altitude,\n",
    "                 windDirection  = windDirection,\n",
    "                 windSpeed      = windSpeed)\n",
    "\n",
    "\n",
    "atm.initializeAtmosphere(telescope=tel)"
   ]
  },
  {
   "cell_type": "code",
   "execution_count": null,
   "id": "af84e533",
   "metadata": {},
   "outputs": [
    {
     "data": {
      "image/png": "[encoded data removed]",
      "text/plain": [
       "<Figure size 400x600 with 2 Axes>"
      ]
     },
     "metadata": {},
     "output_type": "display_data"
    },
    {
     "ename": "",
     "evalue": "",
     "output_type": "error",
     "traceback": [
      "\u001b[1;31mnotebook controller is DISPOSED. \n",
      "\u001b[1;31mView Jupyter <a href='command:jupyter.viewOutput'>log</a> for further details."
     ]
    },
    {
     "ename": "",
     "evalue": "",
     "output_type": "error",
     "traceback": [
      "\u001b[1;31mnotebook controller is DISPOSED. \n",
      "\u001b[1;31mView Jupyter <a href='command:jupyter.viewOutput'>log</a> for further details."
     ]
    }
   ],
   "source": [
    "lgsAst**atm*tel\n",
    "atm.display_atm_layers()\n"
   ]
  },
  {
   "cell_type": "code",
   "execution_count": null,
   "id": "d69815e0",
   "metadata": {},
   "outputs": [
    {
     "name": "stdout",
     "output_type": "stream",
     "text": [
      "No user-input pixel scale - using shannon_sampling input value:2 pixel(s) per spot FWHM\n",
      "-------------Detector--------------\n",
      "Sensor type              |   CCD   \n",
      "Resolution [px]          |   288   \n",
      "Gain                     |    1    \n",
      "Quantum efficiency [%]   |   100   \n",
      "Binning                  |   1x1   \n",
      "Dark current [e-/px/s]   |  0.00   \n",
      "Photon noise             |  False  \n",
      "Bkg noise [e-]           |  False  \n",
      "Readout noise [e-/px]    |   0.0   \n",
      "-----------------------------------\n",
      "\n",
      "Selecting valid subapertures based on flux considerations..\n",
      "Acquiring reference slopes..\n",
      "updating the flux of the SHWFS object\n",
      "Done!\n",
      "Recalibrating the slopes units\n",
      "Acquiring reference slopes..\n",
      "Done!\n",
      "Done\n",
      "\u001b[01m\u001b[33mOOPAO Warning: \n",
      "All Detector Noises are disables with the geometric WFS\u001b[0m\n",
      "\n",
      "------- Shack-Hartmann WFS --------\n",
      "Subapertures [lenslets]  |   24    \n",
      "Subaperture Pitch [m]    |  0.56   \n",
      "Subaperture FoV [arcsec] |  1.30   \n",
      "Pixel Scale [arcsec]     |  0.108  \n",
      "Valid Subapertures       |   504   \n",
      "Spot Sampling [pix]      |  2.00   \n",
      "Geometric WFS            |  True   \n",
      "-----------------------------------\n",
      "\n",
      "Acquiring reference slopes..\n",
      "Done!\n",
      "Recalibrating the slopes units\n",
      "Acquiring reference slopes..\n",
      "Done!\n",
      "Done\n",
      "\u001b[01m\u001b[33mOOPAO Warning: \n",
      "All Detector Noises are disables with the geometric WFS\u001b[0m\n",
      "\n",
      "------- Shack-Hartmann WFS --------\n",
      "Subapertures [lenslets]  |   24    \n",
      "Subaperture Pitch [m]    |  0.56   \n",
      "Subaperture FoV [arcsec] |  1.30   \n",
      "Pixel Scale [arcsec]     |  0.108  \n",
      "Valid Subapertures       |   504   \n",
      "Spot Sampling [pix]      |  2.00   \n",
      "Geometric WFS            |  True   \n",
      "-----------------------------------\n",
      "\n",
      "Acquiring reference slopes..\n",
      "Done!\n",
      "Recalibrating the slopes units\n",
      "Acquiring reference slopes..\n",
      "Done!\n",
      "Done\n",
      "\u001b[01m\u001b[33mOOPAO Warning: \n",
      "All Detector Noises are disables with the geometric WFS\u001b[0m\n",
      "\n",
      "------- Shack-Hartmann WFS --------\n",
      "Subapertures [lenslets]  |   24    \n",
      "Subaperture Pitch [m]    |  0.56   \n",
      "Subaperture FoV [arcsec] |  1.30   \n",
      "Pixel Scale [arcsec]     |  0.108  \n",
      "Valid Subapertures       |   608   \n",
      "Spot Sampling [pix]      |  2.00   \n",
      "Geometric WFS            |  True   \n",
      "-----------------------------------\n",
      "\n",
      "No user-input pixel scale - using shannon_sampling input value:2 pixel(s) per spot FWHM\n",
      "-------------Detector--------------\n",
      "Sensor type              |   CCD   \n",
      "Resolution [px]          |   288   \n",
      "Gain                     |    1    \n",
      "Quantum efficiency [%]   |   100   \n",
      "Binning                  |   1x1   \n",
      "Dark current [e-/px/s]   |  0.00   \n",
      "Photon noise             |  False  \n",
      "Bkg noise [e-]           |  False  \n",
      "Readout noise [e-/px]    |   0.0   \n",
      "-----------------------------------\n",
      "\n",
      "Selecting valid subapertures based on flux considerations..\n",
      "Acquiring reference slopes..\n",
      "Done!\n",
      "Recalibrating the slopes units\n",
      "Acquiring reference slopes..\n",
      "Done!\n",
      "Done\n",
      "\u001b[01m\u001b[33mOOPAO Warning: \n",
      "All Detector Noises are disables with the geometric WFS\u001b[0m\n",
      "\n",
      "------- Shack-Hartmann WFS --------\n",
      "Subapertures [lenslets]  |   24    \n",
      "Subaperture Pitch [m]    |  0.56   \n",
      "Subaperture FoV [arcsec] |  1.30   \n",
      "Pixel Scale [arcsec]     |  0.108  \n",
      "Valid Subapertures       |   504   \n",
      "Spot Sampling [pix]      |  4.630  \n",
      "Max Elongation [arcsec]  |  7.736  \n",
      "Geometric WFS            |  True   \n",
      "-----------------------------------\n",
      "\n",
      "Acquiring reference slopes..\n",
      "Done!\n",
      "Recalibrating the slopes units\n",
      "Acquiring reference slopes..\n",
      "Done!\n",
      "Done\n",
      "\u001b[01m\u001b[33mOOPAO Warning: \n",
      "All Detector Noises are disables with the geometric WFS\u001b[0m\n",
      "\n",
      "------- Shack-Hartmann WFS --------\n",
      "Subapertures [lenslets]  |   24    \n",
      "Subaperture Pitch [m]    |  0.56   \n",
      "Subaperture FoV [arcsec] |  1.30   \n",
      "Pixel Scale [arcsec]     |  0.108  \n",
      "Valid Subapertures       |   504   \n",
      "Spot Sampling [pix]      |  4.630  \n",
      "Max Elongation [arcsec]  |  7.736  \n",
      "Geometric WFS            |  True   \n",
      "-----------------------------------\n",
      "\n",
      "Acquiring reference slopes..\n",
      "Done!\n",
      "Recalibrating the slopes units\n",
      "Acquiring reference slopes..\n",
      "Done!\n",
      "Done\n",
      "\u001b[01m\u001b[33mOOPAO Warning: \n",
      "All Detector Noises are disables with the geometric WFS\u001b[0m\n",
      "\n",
      "------- Shack-Hartmann WFS --------\n",
      "Subapertures [lenslets]  |   24    \n",
      "Subaperture Pitch [m]    |  0.56   \n",
      "Subaperture FoV [arcsec] |  1.30   \n",
      "Pixel Scale [arcsec]     |  0.108  \n",
      "Valid Subapertures       |   464   \n",
      "Spot Sampling [pix]      |  4.630  \n",
      "Max Elongation [arcsec]  |  7.736  \n",
      "Geometric WFS            |  True   \n",
      "-----------------------------------\n",
      "\n"
     ]
    },
    {
     "ename": "",
     "evalue": "",
     "output_type": "error",
     "traceback": [
      "\u001b[1;31mnotebook controller is DISPOSED. \n",
      "\u001b[1;31mView Jupyter <a href='command:jupyter.viewOutput'>log</a> for further details."
     ]
    },
    {
     "ename": "",
     "evalue": "",
     "output_type": "error",
     "traceback": [
      "\u001b[1;31mnotebook controller is DISPOSED. \n",
      "\u001b[1;31mView Jupyter <a href='command:jupyter.viewOutput'>log</a> for further details."
     ]
    }
   ],
   "source": [
    "from OOPAO.ShackHartmann import ShackHartmann\n",
    "\n",
    "\n",
    "unfiltered_subap_mask = np.loadtxt(config_vars[\"unfiltered_subap_mask\"], dtype=bool, delimiter=\",\")\n",
    "filtered_subap_mask = np.loadtxt(config_vars[\"filtered_subap_mask\"], dtype=bool, delimiter=\",\")\n",
    "\n",
    "shwfs_unfiltered = ShackHartmann(telescope          = tel,\n",
    "                      nSubap             = n_subaperture,\n",
    "                      lightRatio         = 0.1,\n",
    "                      is_geometric       = True,\n",
    "                      shannon_sampling   = True,\n",
    "                      threshold_cog      = 0.01)\n",
    "\n",
    "\n",
    "shwfs_unfiltered.valid_subapertures = unfiltered_subap_mask.copy()\n",
    "\n",
    "shwfs_filtered = ShackHartmann(telescope          = tel,\n",
    "                      nSubap             = n_subaperture,\n",
    "                      lightRatio         = 0.1,\n",
    "                      is_geometric       = True,\n",
    "                      shannon_sampling   = True,\n",
    "                      threshold_cog      = 0.01)\n",
    "\n",
    "\n",
    "shwfs_filtered.valid_subapertures = filtered_subap_mask.copy()\n"
   ]
  },
  {
   "cell_type": "code",
   "execution_count": null,
   "id": "ee67036f",
   "metadata": {},
   "outputs": [
    {
     "name": "stdout",
     "output_type": "stream",
     "text": [
      "Coordinates loaded...\n",
      "Generating a Deformable Mirror: \n",
      "Computing the 2D zonal modes...\n",
      "\n",
      "-------- Deformable mirror --------\n",
      "Controlled Actuators     |   349   \n",
      "M4                       |  False  \n",
      "Pitch [m]                |  0.56   \n",
      "Mechnical coupling [%]   |   15    \n",
      "== Misregistration ================\n",
      "Rotation [°]             |  0.000  \n",
      "Shift X [m]              |0.000e+00\n",
      "Shift Y [m]              |0.000e+00\n",
      "Anamorphosis angle [°]   |  0.000  \n",
      "Tangential scaling [%]   |  0.000  \n",
      "Radial scaling [%]       |  0.000  \n",
      "-----------------------------------\n",
      "\n"
     ]
    },
    {
     "ename": "",
     "evalue": "",
     "output_type": "error",
     "traceback": [
      "\u001b[1;31mnotebook controller is DISPOSED. \n",
      "\u001b[1;31mView Jupyter <a href='command:jupyter.viewOutput'>log</a> for further details."
     ]
    },
    {
     "ename": "",
     "evalue": "",
     "output_type": "error",
     "traceback": [
      "\u001b[1;31mnotebook controller is DISPOSED. \n",
      "\u001b[1;31mView Jupyter <a href='command:jupyter.viewOutput'>log</a> for further details."
     ]
    }
   ],
   "source": [
    "from OOPAO.DeformableMirror import DeformableMirror\n",
    "from OOPAO.MisRegistration import MisRegistration\n",
    "\n",
    "\n",
    "mechanical_coupling = config_vars['mechanicalCoupling']\n",
    "misReg = MisRegistration(config_vars)\n",
    "\n",
    "unfiltered_act_mask = np.loadtxt(config_vars[\"actuator_mask\"], dtype=bool, delimiter=\",\")\n",
    "if unfiltered_act_mask.shape[0] != config_vars['nActuator']:\n",
    "    unfiltered_act_mask = np.pad(unfiltered_act_mask, pad_width=int(config_vars['nSubapExtra']/2), mode='constant', constant_values=0)\n",
    "\n",
    "\n",
    "X, Y = tomoAO.tools.tomography_tools.meshgrid(config_vars['nActuator'], tel.D, offset_x=0.0, offset_y=0.0, stretch_x=1, stretch_y=1)\n",
    "coordinates = np.array([X[unfiltered_act_mask], Y[unfiltered_act_mask]]).T\n",
    "\n",
    "dm = DeformableMirror(telescope=tel,\n",
    "                            nSubap=config_vars['nSubaperture'],\n",
    "                            mechCoupling=config_vars['mechanicalCoupling'],\n",
    "                            misReg=misReg,\n",
    "                            coordinates=coordinates,\n",
    "                            pitch=tel.D / (config_vars['nActuator'] - 1))\n",
    "\n",
    "\n",
    "dm.unfiltered_act_mask = unfiltered_act_mask.copy()\n"
   ]
  },
  {
   "cell_type": "code",
   "execution_count": null,
   "id": "86544fc1",
   "metadata": {},
   "outputs": [
    {
     "name": "stdout",
     "output_type": "stream",
     "text": [
      "\n",
      "------------- Source --------------\n",
      "Source                   |   NGS   \n",
      "Wavelength [m]           | 5.9e-07 \n",
      "Zenith [arcsec]          |  0.00   \n",
      "Azimuth [°]              |  0.00   \n",
      "Altitude [m]             |   inf   \n",
      "Magnitude                |  0.00   \n",
      "Flux [photon/m²/s]       | 9.0e+09 \n",
      "Coordinates [arcsec,deg] | [0,0]\n",
      "-----------------------------------\n",
      "\n",
      "\n",
      "------------- Source --------------\n",
      "Source                   |   NGS   \n",
      "Wavelength [m]           | 2.2e-06 \n",
      "Zenith [arcsec]          |  0.00   \n",
      "Azimuth [°]              |  0.00   \n",
      "Altitude [m]             |   inf   \n",
      "Magnitude                |  0.00   \n",
      "Flux [photon/m²/s]       | 1.9e+09 \n",
      "Coordinates [arcsec,deg] | [0,0]\n",
      "-----------------------------------\n",
      "\n",
      "Coordinates loaded...\n",
      "Generating a Deformable Mirror: \n",
      "Computing the 2D zonal modes...\n",
      "\n",
      "-------- Deformable mirror --------\n",
      "Controlled Actuators     |   349   \n",
      "M4                       |  False  \n",
      "Pitch [m]                |  0.56   \n",
      "Mechnical coupling [%]   |   15    \n",
      "== Misregistration ================\n",
      "Rotation [°]             |  0.000  \n",
      "Shift X [m]              |0.000e+00\n",
      "Shift Y [m]              |0.000e+00\n",
      "Anamorphosis angle [°]   |  0.000  \n",
      "Tangential scaling [%]   |  0.000  \n",
      "Radial scaling [%]       |  0.000  \n",
      "-----------------------------------\n",
      "\n",
      "Updating the Atmosphere covariance matrices...\n",
      "GPU not available, using CPU\n",
      "Updating the Atmosphere covariance matrices...\n"
     ]
    },
    {
     "ename": "",
     "evalue": "",
     "output_type": "error",
     "traceback": [
      "\u001b[1;31mnotebook controller is DISPOSED. \n",
      "\u001b[1;31mView Jupyter <a href='command:jupyter.viewOutput'>log</a> for further details."
     ]
    },
    {
     "ename": "",
     "evalue": "",
     "output_type": "error",
     "traceback": [
      "\u001b[1;31mnotebook controller is DISPOSED. \n",
      "\u001b[1;31mView Jupyter <a href='command:jupyter.viewOutput'>log</a> for further details."
     ]
    }
   ],
   "source": [
    "aoSys = tomoAO.Simulation.AOSystem(config_vars, \n",
    "                                   tel=tel, \n",
    "                                   lgsAst=lgsAst, \n",
    "                                   dm=dm, \n",
    "                                   atm=atm, \n",
    "                                   wfs=shwfs_unfiltered,\n",
    "                                   unfiltered_subap_mask=unfiltered_subap_mask,\n",
    "                                   filtered_subap_mask=filtered_subap_mask)\n",
    "\n",
    "from tomoAO.Reconstruction.reconClassType import tomoReconstructor\n",
    "\n",
    "rec = tomoReconstructor(aoSys=aoSys, alpha=10, os=2, \n",
    "                        order=config_vars[\"order\"], indexation=config_vars[\"indexation\"],\n",
    "                        remove_TT_F = False)\n",
    "\n",
    "reconstructor = rec.reconstructor.copy()\n",
    "\n",
    "atm.r0 = 0.16\n"
   ]
  },
  {
   "cell_type": "code",
   "execution_count": null,
   "id": "fd7448af",
   "metadata": {},
   "outputs": [
    {
     "ename": "",
     "evalue": "",
     "output_type": "error",
     "traceback": [
      "\u001b[1;31mnotebook controller is DISPOSED. \n",
      "\u001b[1;31mView Jupyter <a href='command:jupyter.viewOutput'>log</a> for further details."
     ]
    },
    {
     "ename": "",
     "evalue": "",
     "output_type": "error",
     "traceback": [
      "\u001b[1;31mnotebook controller is DISPOSED. \n",
      "\u001b[1;31mView Jupyter <a href='command:jupyter.viewOutput'>log</a> for further details."
     ]
    }
   ],
   "source": [
    "# stop"
   ]
  },
  {
   "cell_type": "code",
   "execution_count": null,
   "id": "d1118487",
   "metadata": {},
   "outputs": [
    {
     "ename": "",
     "evalue": "",
     "output_type": "error",
     "traceback": [
      "\u001b[1;31mnotebook controller is DISPOSED. \n",
      "\u001b[1;31mView Jupyter <a href='command:jupyter.viewOutput'>log</a> for further details."
     ]
    },
    {
     "ename": "",
     "evalue": "",
     "output_type": "error",
     "traceback": [
      "\u001b[1;31mnotebook controller is DISPOSED. \n",
      "\u001b[1;31mView Jupyter <a href='command:jupyter.viewOutput'>log</a> for further details."
     ]
    }
   ],
   "source": [
    "# lgsAst**atm*tel*shwfs_unfiltered\n",
    "# lgsAst**atm*tel*shwfs_filtered\n",
    "\n",
    "\n",
    "\n",
    "# unfiltered_signal = rec.filtering_matrix@rec.signal_permutation_matrix@np.hstack(shwfs_unfiltered.signal)\n",
    "\n",
    "# signal_permutation_matrix = tomoAO.tools.tomography_tools.get_signal_permutation_matrix(filtered_subap_mask, rec.nGuideStar)\n",
    "\n",
    "# filtered_signal = signal_permutation_matrix@np.hstack(shwfs_filtered.signal)\n",
    "\n",
    "\n",
    "# plt.plot(unfiltered_signal, label = \"Unfiltered\")\n",
    "# plt.plot(filtered_signal, label = \"Filtered\")\n",
    "# plt.plot(unfiltered_signal-filtered_signal, label = \"Diff\")\n",
    "# plt.legend()\n"
   ]
  },
  {
   "cell_type": "code",
   "execution_count": null,
   "id": "9a29e809",
   "metadata": {},
   "outputs": [
    {
     "name": "stdout",
     "output_type": "stream",
     "text": [
      "TIME ELAPSED: 6 sec. COMPLETED: 100 %\n",
      "NMAX =  293\n",
      "RMS opd error = [[1.17636685e-08 1.18926392e-08 1.20774297e-08]]\n",
      "RMS Positions = [[2.12866083e-07 6.19696799e-07 6.19859451e-07]]\n",
      "MAX Positions = [[6.89768017e-07 1.46852240e-06 1.33504757e-06]]\n",
      "WARNING: Number of modes requested too high, taking the maximum value possible!\n",
      "KL WITH DOUBLE DIAGONALISATION: COVARIANCE ERROR =  6.86202618064504e-14\n"
     ]
    },
    {
     "ename": "",
     "evalue": "",
     "output_type": "error",
     "traceback": [
      "\u001b[1;31mnotebook controller is DISPOSED. \n",
      "\u001b[1;31mView Jupyter <a href='command:jupyter.viewOutput'>log</a> for further details."
     ]
    },
    {
     "ename": "",
     "evalue": "",
     "output_type": "error",
     "traceback": [
      "\u001b[1;31mnotebook controller is DISPOSED. \n",
      "\u001b[1;31mView Jupyter <a href='command:jupyter.viewOutput'>log</a> for further details."
     ]
    }
   ],
   "source": [
    "from OOPAO.calibration.compute_KL_modal_basis import compute_KL_basis\n",
    "M2C_KL = compute_KL_basis(src=lgsAst.src[0],tel=tel,atm=atm,dm=dm)"
   ]
  },
  {
   "cell_type": "code",
   "execution_count": null,
   "id": "ad4b3672",
   "metadata": {},
   "outputs": [
    {
     "data": {
      "text/plain": [
       "\n",
       "--------------------------------- Asterism ---------------------------------\n",
       " Source | Wavelength | Zenith | Azimuth | Altitude | Magnitude |   Flux    |\n",
       "        |    [m]     |[arcsec]|   [°]   |   [m]    |           | [ph/m²/s] |\n",
       "\u001b[00m  1-LGS |  5.9e-07   |  0.00  |  0.00   | 90000.00 |   8.89    |  2.5e+06  |\n",
       "\u001b[00m----------------------------------------------------------------------------"
      ]
     },
     "execution_count": 21,
     "metadata": {},
     "output_type": "execute_result"
    },
    {
     "ename": "",
     "evalue": "",
     "output_type": "error",
     "traceback": [
      "\u001b[1;31mnotebook controller is DISPOSED. \n",
      "\u001b[1;31mView Jupyter <a href='command:jupyter.viewOutput'>log</a> for further details."
     ]
    },
    {
     "ename": "",
     "evalue": "",
     "output_type": "error",
     "traceback": [
      "\u001b[1;31mnotebook controller is DISPOSED. \n",
      "\u001b[1;31mView Jupyter <a href='command:jupyter.viewOutput'>log</a> for further details."
     ]
    }
   ],
   "source": [
    "mode = 1\n",
    "\n",
    "input_modes = 1e-9\n",
    "\n",
    "dm.coefs = M2C_KL[:,mode] * input_modes\n",
    "\n",
    "lgsAst**tel*dm*shwfs_unfiltered*shwfs_filtered\n"
   ]
  },
  {
   "cell_type": "code",
   "execution_count": null,
   "id": "e5e97335",
   "metadata": {},
   "outputs": [
    {
     "ename": "NameError",
     "evalue": "name 'rec' is not defined",
     "output_type": "error",
     "traceback": [
      "\u001b[0;31m---------------------------------------------------------------------------\u001b[0m",
      "\u001b[0;31mNameError\u001b[0m                                 Traceback (most recent call last)",
      "Cell \u001b[0;32mIn[1], line 1\u001b[0m\n\u001b[0;32m----> 1\u001b[0m unfiltered_signal \u001b[38;5;241m=\u001b[39m \u001b[43mrec\u001b[49m\u001b[38;5;241m.\u001b[39mfiltering_matrix\u001b[38;5;129m@rec\u001b[39m\u001b[38;5;241m.\u001b[39msignal_permutation_matrix\u001b[38;5;129m@np\u001b[39m\u001b[38;5;241m.\u001b[39mhstack(shwfs_unfiltered\u001b[38;5;241m.\u001b[39msignal)\n\u001b[1;32m      3\u001b[0m signal_permutation_matrix \u001b[38;5;241m=\u001b[39m tomoAO\u001b[38;5;241m.\u001b[39mtools\u001b[38;5;241m.\u001b[39mtomography_tools\u001b[38;5;241m.\u001b[39mget_signal_permutation_matrix(filtered_subap_mask, rec\u001b[38;5;241m.\u001b[39mnGuideStar)\n\u001b[1;32m      5\u001b[0m filtered_signal \u001b[38;5;241m=\u001b[39m signal_permutation_matrix\u001b[38;5;129m@np\u001b[39m\u001b[38;5;241m.\u001b[39mhstack(shwfs_filtered\u001b[38;5;241m.\u001b[39msignal)\n",
      "\u001b[0;31mNameError\u001b[0m: name 'rec' is not defined"
     ]
    },
    {
     "ename": "",
     "evalue": "",
     "output_type": "error",
     "traceback": [
      "\u001b[1;31mnotebook controller is DISPOSED. \n",
      "\u001b[1;31mView Jupyter <a href='command:jupyter.viewOutput'>log</a> for further details."
     ]
    },
    {
     "ename": "",
     "evalue": "",
     "output_type": "error",
     "traceback": [
      "\u001b[1;31mnotebook controller is DISPOSED. \n",
      "\u001b[1;31mView Jupyter <a href='command:jupyter.viewOutput'>log</a> for further details."
     ]
    }
   ],
   "source": [
    "unfiltered_signal = rec.filtering_matrix@rec.signal_permutation_matrix@np.hstack(shwfs_unfiltered.signal)\n",
    "\n",
    "signal_permutation_matrix = tomoAO.tools.tomography_tools.get_signal_permutation_matrix(filtered_subap_mask, rec.nGuideStar)\n",
    "\n",
    "filtered_signal = signal_permutation_matrix@np.hstack(shwfs_filtered.signal)\n",
    "\n",
    "\n",
    "fig, axes = plt.subplots(1, 1, figsize=(10, 4))\n",
    "\n",
    "axes.plot(unfiltered_signal[:shwfs_filtered.nValidSubaperture], label = \"Unfiltered\", \n",
    "          color=\"darkgreen\", alpha=0.5)\n",
    "\n",
    "\n",
    "axes.plot(filtered_signal[:shwfs_filtered.nValidSubaperture], label = \"Filtered\",\n",
    "           color=\"red\", alpha=0.5)\n",
    "\n",
    "axes.plot(unfiltered_signal[:shwfs_filtered.nValidSubaperture]-filtered_signal[:shwfs_filtered.nValidSubaperture], \n",
    "          label = \"Diff\", linestyle=\"--\", color=\"black\", alpha=0.5)\n",
    "axes.legend()"
   ]
  },
  {
   "cell_type": "code",
   "execution_count": null,
   "id": "8945fded",
   "metadata": {},
   "outputs": [
    {
     "data": {
      "text/plain": [
       "<matplotlib.colorbar.Colorbar at 0x7a60b4613670>"
      ]
     },
     "execution_count": 25,
     "metadata": {},
     "output_type": "execute_result"
    },
    {
     "data": {
      "image/png": "[encoded data removed]",
      "text/plain": [
       "<Figure size 1000x300 with 6 Axes>"
      ]
     },
     "metadata": {},
     "output_type": "display_data"
    },
    {
     "ename": "",
     "evalue": "",
     "output_type": "error",
     "traceback": [
      "\u001b[1;31mnotebook controller is DISPOSED. \n",
      "\u001b[1;31mView Jupyter <a href='command:jupyter.viewOutput'>log</a> for further details."
     ]
    },
    {
     "ename": "",
     "evalue": "",
     "output_type": "error",
     "traceback": [
      "\u001b[1;31mnotebook controller is DISPOSED. \n",
      "\u001b[1;31mView Jupyter <a href='command:jupyter.viewOutput'>log</a> for further details."
     ]
    }
   ],
   "source": [
    "\n",
    "unfiltered_signal_2D = shwfs_unfiltered.signal_2D[0].copy()*shwfs_filtered.valid_slopes_maps\n",
    "filtered_signal_2D = shwfs_filtered.signal_2D[0].copy()\n",
    "\n",
    "fig, axes = plt.subplots(1, 3, figsize=(10, 3))\n",
    "\n",
    "im = axes[0].imshow(unfiltered_signal_2D)\n",
    "axes[0].axis('off')\n",
    "axes[0].set_title(f'Unfiltered')\n",
    "fig.colorbar(im, ax=axes[0], fraction=0.046, pad=0.04)\n",
    "\n",
    "\n",
    "im = axes[1].imshow(filtered_signal_2D)\n",
    "axes[1].axis('off')\n",
    "axes[1].set_title(f'Filtered')\n",
    "fig.colorbar(im, ax=axes[1], fraction=0.046, pad=0.04)\n",
    "\n",
    "\n",
    "im = axes[2].imshow(unfiltered_signal_2D-filtered_signal_2D)\n",
    "axes[2].axis('off')\n",
    "axes[2].set_title(f'Diff')\n",
    "fig.colorbar(im, ax=axes[2], fraction=0.046, pad=0.04)\n",
    "\n",
    "\n"
   ]
  },
  {
   "cell_type": "code",
   "execution_count": null,
   "id": "e392ab0d",
   "metadata": {},
   "outputs": [
    {
     "ename": "",
     "evalue": "",
     "output_type": "error",
     "traceback": [
      "\u001b[1;31mnotebook controller is DISPOSED. \n",
      "\u001b[1;31mView Jupyter <a href='command:jupyter.viewOutput'>log</a> for further details."
     ]
    },
    {
     "ename": "",
     "evalue": "",
     "output_type": "error",
     "traceback": [
      "\u001b[1;31mnotebook controller is DISPOSED. \n",
      "\u001b[1;31mView Jupyter <a href='command:jupyter.viewOutput'>log</a> for further details."
     ]
    }
   ],
   "source": []
  },
  {
   "cell_type": "code",
   "execution_count": null,
   "id": "e87089b6",
   "metadata": {},
   "outputs": [
    {
     "ename": "",
     "evalue": "",
     "output_type": "error",
     "traceback": [
      "\u001b[1;31mnotebook controller is DISPOSED. \n",
      "\u001b[1;31mView Jupyter <a href='command:jupyter.viewOutput'>log</a> for further details."
     ]
    },
    {
     "ename": "",
     "evalue": "",
     "output_type": "error",
     "traceback": [
      "\u001b[1;31mnotebook controller is DISPOSED. \n",
      "\u001b[1;31mView Jupyter <a href='command:jupyter.viewOutput'>log</a> for further details."
     ]
    }
   ],
   "source": []
  },
  {
   "cell_type": "code",
   "execution_count": null,
   "id": "08c4ff58",
   "metadata": {},
   "outputs": [
    {
     "ename": "",
     "evalue": "",
     "output_type": "error",
     "traceback": [
      "\u001b[1;31mnotebook controller is DISPOSED. \n",
      "\u001b[1;31mView Jupyter <a href='command:jupyter.viewOutput'>log</a> for further details."
     ]
    },
    {
     "ename": "",
     "evalue": "",
     "output_type": "error",
     "traceback": [
      "\u001b[1;31mnotebook controller is DISPOSED. \n",
      "\u001b[1;31mView Jupyter <a href='command:jupyter.viewOutput'>log</a> for further details."
     ]
    }
   ],
   "source": []
  },
  {
   "cell_type": "code",
   "execution_count": null,
   "id": "e5abef88",
   "metadata": {},
   "outputs": [
    {
     "ename": "",
     "evalue": "",
     "output_type": "error",
     "traceback": [
      "\u001b[1;31mnotebook controller is DISPOSED. \n",
      "\u001b[1;31mView Jupyter <a href='command:jupyter.viewOutput'>log</a> for further details."
     ]
    },
    {
     "ename": "",
     "evalue": "",
     "output_type": "error",
     "traceback": [
      "\u001b[1;31mnotebook controller is DISPOSED. \n",
      "\u001b[1;31mView Jupyter <a href='command:jupyter.viewOutput'>log</a> for further details."
     ]
    }
   ],
   "source": []
  },
  {
   "cell_type": "code",
   "execution_count": null,
   "id": "cdcfceff",
   "metadata": {},
   "outputs": [
    {
     "ename": "",
     "evalue": "",
     "output_type": "error",
     "traceback": [
      "\u001b[1;31mnotebook controller is DISPOSED. \n",
      "\u001b[1;31mView Jupyter <a href='command:jupyter.viewOutput'>log</a> for further details."
     ]
    },
    {
     "ename": "",
     "evalue": "",
     "output_type": "error",
     "traceback": [
      "\u001b[1;31mnotebook controller is DISPOSED. \n",
      "\u001b[1;31mView Jupyter <a href='command:jupyter.viewOutput'>log</a> for further details."
     ]
    }
   ],
   "source": []
  }
 ],
 "metadata": {
  "kernelspec": {
   "display_name": "env_oopao_spaceodt",
   "language": "python",
   "name": "python3"
  },
  "language_info": {
   "codemirror_mode": {
    "name": "ipython",
    "version": 3
   },
   "file_extension": ".py",
   "mimetype": "text/x-python",
   "name": "python",
   "nbconvert_exporter": "python",
   "pygments_lexer": "ipython3",
   "version": "3.10.12"
  }
 },
 "nbformat": 4,
 "nbformat_minor": 5
}
