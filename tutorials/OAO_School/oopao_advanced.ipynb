{
 "cells": [
  {
   "cell_type": "markdown",
   "id": "d635b424-6dfc-4102-a99c-c64c5c54c073",
   "metadata": {},
   "source": [
    "\n",
    "# OOPAO Tutorial: Intermediate Level\n",
    "This tutorial will walk you through the papytwin model computation to predict what AO performance can be expected from the PAPYRUS system."
   ]
  },
  {
   "cell_type": "markdown",
   "id": "8a2304ff-f7c4-4382-93c4-5632c784f9da",
   "metadata": {},
   "source": [
    "## 0.0 - Sanity check\n",
    "Check that OOPAO is properly installed and the path properly configured"
   ]
  },
  {
   "cell_type": "code",
   "execution_count": 1,
   "id": "8c1ef562-f260-4ecf-bcad-6447a934b8af",
   "metadata": {},
   "outputs": [],
   "source": [
    "import sys\n",
    "xs = sys.path\n",
    "matching = [s for s in xs if \"OOPAO\" in s]\n",
    "sys.path.append(matching[0]+'/tutorials/OAO_School/')"
   ]
  },
  {
   "cell_type": "markdown",
   "id": "452841b7-9820-44e6-bef5-c8d7bcd0ed9f",
   "metadata": {},
   "source": [
    "Make sure that the OOPAO modules can be imported:"
   ]
  },
  {
   "cell_type": "code",
   "execution_count": 2,
   "id": "925fb717-f8f0-433d-a24a-ac443718d086",
   "metadata": {},
   "outputs": [
    {
     "name": "stdout",
     "output_type": "stream",
     "text": [
      "\n",
      "\n",
      "================================================================================\n",
      "   ✸       *          °          *      *                                      \n",
      "        °   ✸         ▄██▄   ▄██▄  ▄███▄   ▄██▄ * ▄██▄    >           ▄▄▄▄     \n",
      "  ✸            °     ██* ██ ██  ██ ██  ██ ██  ██ ██  ██   ===>     ▄█▀▀  ▀▀█▄  \n",
      "   *   °    ✸        ██  ██ ██° ██ ██  ██ ██* ██ ██  ██   =>      █▀ ▄█▀▀█▄ ▀█ \n",
      "✸    *           °   ██  ██ ██  ██ ████▀  ██▄▄██ ██  ██   ====>  █▀ █▀ ▄▄ ▀█ ▀█\n",
      "           ✸   °     ██* ██ ██  ██ ██     ██▀▀██ ██  ██   =====> █▄ █▄ ▀▀ ▄█ ▄█\n",
      " *    ✸     °        ██  ██ ██  ██ ██ *   ██  ██ ██* ██   =>      █▄ ▀█▄▄█▀ ▄█ \n",
      "    °        *    ✸   ▀██▀   ▀██▀  ██   ° ██  ██  ▀██▀    ==       ▀█▄▄  ▄▄█▀  \n",
      "         ✸       *        *         *                                 ▀▀▀▀     \n",
      "================================================================================\n",
      "\n",
      "\n"
     ]
    }
   ],
   "source": [
    "import OOPAO\n",
    "from Papyrus import Papyrus"
   ]
  },
  {
   "cell_type": "markdown",
   "id": "c6609edd-d775-4bc8-b0b0-76d925d4958e",
   "metadata": {},
   "source": [
    "## 0.1 - Access the Tutorials questions: \n",
    "### Interactive Quizz\n",
    "If you want an interactive quizz, install the streamlit and pillow packages in your environment"
   ]
  },
  {
   "cell_type": "code",
   "execution_count": 3,
   "id": "2b3e75d1-beb5-41b6-80d7-5e9bfd21d711",
   "metadata": {},
   "outputs": [],
   "source": [
    "#pip install streamlit pillow"
   ]
  },
  {
   "cell_type": "markdown",
   "id": "c07816c9-f84e-4b87-995a-f4847faced68",
   "metadata": {},
   "source": [
    "run the following command from a terminal (not here) to start the interactive tutorial:"
   ]
  },
  {
   "cell_type": "code",
   "execution_count": null,
   "id": "cdc1ba9f-1a94-4830-bffa-3eaf48dd8bf8",
   "metadata": {},
   "outputs": [],
   "source": [
    "!streamlit run oopao_advanced_questions.py"
   ]
  },
  {
   "cell_type": "markdown",
   "id": "436e0a95-ffae-4379-aa18-cd4722a34ba4",
   "metadata": {},
   "source": [
    "### PDF version\n",
    "The equivalent PDF version is available in the OAO_School folder."
   ]
  },
  {
   "cell_type": "markdown",
   "id": "7c276182-e598-43f0-b657-9879c3c9ae25",
   "metadata": {},
   "source": [
    "# Answers"
   ]
  },
  {
   "cell_type": "markdown",
   "id": "e8095c77-2cbd-49eb-b2fc-ec40911aa584",
   "metadata": {},
   "source": [
    "## Answers from Question 1\n",
    "Text to answer to the question"
   ]
  },
  {
   "cell_type": "code",
   "execution_count": null,
   "id": "47f0260f-4cc5-409a-9a0a-4a0a06aa3c4c",
   "metadata": {},
   "outputs": [],
   "source": [
    "# code to answer to the question"
   ]
  },
  {
   "cell_type": "markdown",
   "id": "658a2e80-36ca-4f8b-ac85-6bce5375b432",
   "metadata": {},
   "source": [
    "## Answers from Question 2\n",
    "Text to answer to the question"
   ]
  },
  {
   "cell_type": "code",
   "execution_count": null,
   "id": "4ae7f984-b139-4f4f-a2ef-624065f71643",
   "metadata": {},
   "outputs": [],
   "source": [
    "# code to answer to the question"
   ]
  }
 ],
 "metadata": {
  "kernelspec": {
   "display_name": "Python 3 (ipykernel)",
   "language": "python",
   "name": "python3"
  },
  "language_info": {
   "codemirror_mode": {
    "name": "ipython",
    "version": 3
   },
   "file_extension": ".py",
   "mimetype": "text/x-python",
   "name": "python",
   "nbconvert_exporter": "python",
   "pygments_lexer": "ipython3",
   "version": "3.12.7"
  }
 },
 "nbformat": 4,
 "nbformat_minor": 5
}
