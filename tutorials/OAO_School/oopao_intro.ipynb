{
 "cells": [
  {
   "cell_type": "markdown",
   "metadata": {
    "id": "o23l_0ZPuvnc"
   },
   "source": [
    "# Import some packages"
   ]
  },
  {
   "cell_type": "code",
   "execution_count": null,
   "metadata": {
    "colab": {
     "background_save": true,
     "base_uri": "https://localhost:8080/"
    },
    "id": "ro1GpZ_VuZ6k",
    "outputId": "4e3a54e2-ebc2-440b-fcda-e43f7a7faa36"
   },
   "outputs": [],
   "source": [
    "import matplotlib.pyplot as plt\n",
    "import numpy as np\n",
    "from OOPAO.tools.displayTools import displayMap\n",
    "plt.ion()"
   ]
  },
  {
   "cell_type": "markdown",
   "metadata": {
    "id": "PUeGwzUcjGWQ"
   },
   "source": [
    "# Set the number of sub-apertures (WFS sampling)"
   ]
  },
  {
   "cell_type": "code",
   "execution_count": null,
   "metadata": {
    "id": "MZtn6IAMjLjh"
   },
   "outputs": [],
   "source": [
    "n_subaperture = 20"
   ]
  },
  {
   "cell_type": "markdown",
   "metadata": {
    "id": "Vlwy6b_H-RnO"
   },
   "source": [
    "# Telescope\n"
   ]
  },
  {
   "cell_type": "code",
   "execution_count": null,
   "metadata": {
    "colab": {
     "base_uri": "https://localhost:8080/",
     "height": 638
    },
    "id": "QaUcfg1g-ZmJ",
    "outputId": "4c0277dd-f258-4703-9e2b-f1bc73e1bcdc"
   },
   "outputs": [],
   "source": [
    "from OOPAO.Telescope import Telescope\n",
    "\n",
    "# Create the Telescope object\n",
    "tel = Telescope(resolution           = 6*n_subaperture,     # Resolution of the telescope in [pix]\n",
    "                diameter             = 1.52,                # Diameter in [m]\n",
    "                samplingTime         = 1/1000,              # Sampling time in [s] of the AO loop\n",
    "                centralObstruction   = 0.25,                # Central obstruction in [%] of a diameter\n",
    "                display_optical_path = False,               # Flag to display optical path\n",
    "                fov                  = 10 )                 # Field of view in [arcsec]. If set to 0 (default) this speeds up the computation of the phase screens but is uncompatible with off-axis targets\n",
    "\n",
    "# Display current pupil\n",
    "plt.figure()\n",
    "plt.imshow(tel.pupil)\n"
   ]
  },
  {
   "cell_type": "markdown",
   "metadata": {
    "id": "ls-s2w8Z-vtS"
   },
   "source": [
    "# Sources\n"
   ]
  },
  {
   "cell_type": "code",
   "execution_count": null,
   "metadata": {
    "colab": {
     "base_uri": "https://localhost:8080/",
     "height": 1000
    },
    "id": "DBqFjXMH-0tJ",
    "outputId": "dd669fd8-0996-48bc-8e1a-ea77ae46139b"
   },
   "outputs": [],
   "source": [
    "from OOPAO.Source import Source\n",
    "\n",
    "# Create the Natural Guide Star object\n",
    "ngs = Source(optBand     = 'I',           # Optical band (see photometry.py)\n",
    "             magnitude   = 8,             # Source Magnitude\n",
    "             coordinates = [0,0])         # Source coordinated [arcsec,deg]\n",
    "\n",
    "# Combine the NGS with the telescope using '*':\n",
    "ngs*tel\n",
    "\n",
    "# Create the Scientific Target object\n",
    "src = Source(optBand     = 'K',           # Optical band (see photometry.py)\n",
    "             magnitude   = 8,             # Source Magnitude\n",
    "             coordinates = [0,0])         # Source coordinated [arcsec,deg]\n",
    "\n",
    "# combine the SRC to the telescope using '*'\n",
    "src*tel\n",
    "\n",
    "# check that the ngs and tel.src objects are the same\n",
    "tel.src.print_properties()\n",
    "\n",
    "# The Telescope has an OPD property (Optical Path Difference in [m] that is not wavelength dependant)\n",
    "plt.figure()\n",
    "plt.imshow(tel.OPD)\n",
    "plt.title('Telescope OPD in [m]')\n",
    "\n",
    "# The Telescope now has a source attached to it with a phase property (in [rad]) that is wavelength dependant:\n",
    "plt.figure()\n",
    "plt.imshow(tel.src.phase)\n",
    "plt.title('Telescope Source Phase in [rad]')"
   ]
  },
  {
   "cell_type": "markdown",
   "metadata": {
    "id": "N7KAXblt_8nW"
   },
   "source": [
    "# Compute the PSF"
   ]
  },
  {
   "cell_type": "code",
   "execution_count": null,
   "metadata": {
    "colab": {
     "base_uri": "https://localhost:8080/",
     "height": 489
    },
    "id": "DcUun1fJAA1h",
    "outputId": "608a6c7a-c12e-4fe0-a984-1810587bc5f6"
   },
   "outputs": [],
   "source": [
    "# Compute the PSF using the computePSF method\n",
    "ngs*tel\n",
    "tel.computePSF(zeroPaddingFactor = 6)\n",
    "log_PSF = np.log10(np.abs(tel.PSF))\n",
    "\n",
    "# Plot the PSF\n",
    "plt.figure()\n",
    "plt.imshow(log_PSF,extent = [tel.xPSF_arcsec[0],tel.xPSF_arcsec[1],tel.xPSF_arcsec[0],tel.xPSF_arcsec[1]])\n",
    "plt.clim([log_PSF.max()-5, log_PSF.max()])\n",
    "plt.xlabel('[Arcsec]')\n",
    "plt.ylabel('[Arcsec]')\n",
    "plt.colorbar()\n",
    "plt.title('Log Scale PSF @'+str(tel.src.wavelength*1e9)+' nm')"
   ]
  },
  {
   "cell_type": "markdown",
   "metadata": {
    "id": "NW3Xkw4nRNw5"
   },
   "source": [
    "# Atmosphere"
   ]
  },
  {
   "cell_type": "code",
   "execution_count": null,
   "metadata": {
    "colab": {
     "base_uri": "https://localhost:8080/",
     "height": 1000
    },
    "id": "vjQlck_MRP8f",
    "outputId": "598c6305-824f-40ef-cf13-673705768cc1"
   },
   "outputs": [],
   "source": [
    "# Creating the Atmosphere object\n",
    "\n",
    "from OOPAO.Atmosphere import Atmosphere\n",
    "\n",
    "atm = Atmosphere(telescope     = tel,                               # Telescope\n",
    "                 r0            = 0.05,                              # Fried Parameter [m]\n",
    "                 L0            = 25,                                # Outer Scale [m]\n",
    "                 fractionalR0  = [0.45 ,0.1  ,0.1  ,0.25  ,0.1   ], # Cn2 Profile\n",
    "                 windSpeed     = [10   ,12   ,11   ,15    ,20    ], # Wind Speed in [m]\n",
    "                 windDirection = [0    ,72   ,144  ,216   ,288   ], # Wind Direction in [degrees]\n",
    "                 altitude      = [0    ,1000 ,5000 ,10000 ,12000 ]) # Altitude Layers in [m]\n",
    "\n",
    "# Initialize atmosphere with current Telescope\n",
    "atm.initializeAtmosphere(tel)\n",
    "\n",
    "# The phase screen can be updated using atm.update method (temporal sampling given by tel.samplingTime)\n",
    "atm.update()\n",
    "\n",
    "# Display the atm.OPD = resulting OPD\n",
    "plt.figure()\n",
    "plt.imshow(atm.OPD*1e9)\n",
    "plt.title('OPD Turbulence [nm]')\n",
    "plt.colorbar()"
   ]
  },
  {
   "cell_type": "markdown",
   "metadata": {
    "id": "DbxOxtRkSAVD"
   },
   "source": [
    "# Propagate the light through the atmosphere"
   ]
  },
  {
   "cell_type": "code",
   "execution_count": null,
   "metadata": {
    "colab": {
     "base_uri": "https://localhost:8080/",
     "height": 1000
    },
    "id": "3tP4B--mR0-l",
    "outputId": "e1ba0f0a-46c3-46fc-eb48-94e69bfe7900"
   },
   "outputs": [],
   "source": [
    "# The Telescope and Atmosphere can be combined using the '+' operator (Propagation through the atmosphere):\n",
    "tel+atm # This operations makes that the tel.OPD is automatically over-written by the value of atm.OPD when atm.OPD is updated.\n",
    "\n",
    "# It is possible to print the optical path:\n",
    "tel.print_optical_path()\n",
    "\n",
    "# display the atm.OPD\n",
    "plt.figure()\n",
    "plt.imshow(atm.OPD*1e9)\n",
    "plt.title('OPD Atmosphere [nm]')\n",
    "plt.colorbar()\n",
    "\n",
    "plt.figure()\n",
    "plt.imshow(tel.OPD*1e9)\n",
    "plt.title('OPD Telescope [nm]')\n",
    "plt.colorbar()\n",
    "\n",
    "plt.figure()\n",
    "plt.imshow(tel.src.phase)\n",
    "plt.title('Telescope Source Phase [rad]')\n",
    "plt.colorbar()"
   ]
  },
  {
   "cell_type": "code",
   "execution_count": null,
   "metadata": {
    "colab": {
     "base_uri": "https://localhost:8080/",
     "height": 284
    },
    "id": "HQ-YZmrPSVJ8",
    "outputId": "aeb7a039-e72f-4b39-c8cd-49782f1b0a4b"
   },
   "outputs": [],
   "source": [
    "# display the atmosphere layers for the sources specified in list_src:\n",
    "atm.display_atm_layers(list_src=[ngs,src])"
   ]
  },
  {
   "cell_type": "code",
   "execution_count": null,
   "metadata": {
    "colab": {
     "base_uri": "https://localhost:8080/",
     "height": 489
    },
    "id": "HacZMyJfOg7p",
    "outputId": "1e63aba4-bc82-451c-ea59-67149d789930"
   },
   "outputs": [],
   "source": [
    "# Seeing limited PSFs\n",
    "# Compute the seeing limited PSF (through the atmosphere) using the computePSF method (for the ngs)\n",
    "atm*ngs*tel\n",
    "tel.computePSF(zeroPaddingFactor = 6)\n",
    "\n",
    "log_PSF = np.log10(np.abs(tel.PSF))\n",
    "\n",
    "plt.figure()\n",
    "plt.imshow(log_PSF,extent = [tel.xPSF_arcsec[0],tel.xPSF_arcsec[1],tel.xPSF_arcsec[0],tel.xPSF_arcsec[1]])\n",
    "plt.clim([log_PSF.max()-5, log_PSF.max()])\n",
    "plt.xlabel('[Arcsec]')\n",
    "plt.ylabel('[Arcsec]')\n",
    "plt.colorbar()\n",
    "plt.title('Log Scale PSF @'+str(tel.src.wavelength*1e9)+' nm')\n"
   ]
  },
  {
   "cell_type": "markdown",
   "metadata": {
    "id": "MC0a5nT3AfDa"
   },
   "source": [
    "# Deformable Mirror"
   ]
  },
  {
   "cell_type": "code",
   "execution_count": null,
   "metadata": {
    "colab": {
     "base_uri": "https://localhost:8080/",
     "height": 795
    },
    "id": "Jhb9F-YBAlZu",
    "outputId": "31011bc7-b987-4001-8bfc-222e0ee96fce"
   },
   "outputs": [],
   "source": [
    "from OOPAO.DeformableMirror import DeformableMirror\n",
    "\n",
    "# Specifying a given number of actuators along the diameter:\n",
    "nAct = 16       # This value is the number of actuator in the pupil! So 1 extra actuator is added automatically\n",
    "\n",
    "dm = DeformableMirror(telescope  = tel,                        # Telescope\n",
    "                    nSubap       = nAct,                       # Number of subaperture of the system considered (by default the DM has n_subaperture + 1 actuators to be in a Fried Geometry)\n",
    "                    mechCoupling = 0.35,                       # Mechanical Coupling for the influence functions\n",
    "                    coordinates  = None,                       # Coordinates in [m]. Should be input as an array of size [n_actuators, 2]\n",
    "                    pitch        = tel.D/nAct)                 # Inter actuator distance. Only used to compute the influence function coupling. The default is based on the n_subaperture value.\n",
    "\n",
    "\n",
    "# Plot the dm actuators coordinates with respect to the pupil\n",
    "plt.figure()\n",
    "plt.imshow(np.reshape(np.sum(dm.modes**7,axis=1),[tel.resolution,tel.resolution]).T + tel.pupil,extent=[-tel.D/2,tel.D/2,-tel.D/2,tel.D/2])\n",
    "plt.plot(dm.coordinates[:,0],dm.coordinates[:,1],'rx')\n",
    "plt.xlabel('[m]')\n",
    "plt.ylabel('[m]')\n",
    "plt.title('DM Actuator Coordinates VS Telescope Pupil')"
   ]
  },
  {
   "cell_type": "code",
   "execution_count": null,
   "metadata": {
    "colab": {
     "base_uri": "https://localhost:8080/",
     "height": 904
    },
    "id": "OQ5ra1_0UbQv",
    "outputId": "dae51785-5c67-4568-fe14-ac51b52cd64c"
   },
   "outputs": [],
   "source": [
    "# Apply a command on the DM and propagate light through it\n",
    "dm.coefs = np.random.randn(dm.nValidAct)*300e-9 # Random vector for the valid actuators\n",
    "\n",
    "# Propagate through the DM\n",
    "tel.resetOPD()              # Reset to remove any previous optical path\n",
    "ngs*tel*dm\n",
    "\n",
    "plt.figure()\n",
    "plt.imshow(dm.OPD*1e9)\n",
    "plt.title('OPD DM [nm]')\n",
    "plt.colorbar()\n",
    "\n",
    "plt.figure()\n",
    "plt.imshow(tel.OPD*1e9)\n",
    "plt.title('OPD Telescope [nm]')\n",
    "plt.colorbar()\n",
    "\n"
   ]
  },
  {
   "cell_type": "markdown",
   "metadata": {
    "id": "r_fHimo9A4sw"
   },
   "source": [
    "# Pyramid wavefront sensor"
   ]
  },
  {
   "cell_type": "code",
   "execution_count": null,
   "metadata": {
    "colab": {
     "base_uri": "https://localhost:8080/",
     "height": 1000
    },
    "id": "q-4680eBA37O",
    "outputId": "596a6231-de7f-4d55-8647-6d1c0a5e9da6"
   },
   "outputs": [],
   "source": [
    "from OOPAO.Pyramid import Pyramid\n",
    "\n",
    "# Make sure tel and atm are separated to initialize the PWFS\n",
    "tel.isPaired = False\n",
    "tel.resetOPD()\n",
    "\n",
    "wfs = Pyramid(nSubap            = n_subaperture,                # Number of subaperture = number of pixel accros the pupil diameter\n",
    "              telescope         = tel,                          # Telescope object\n",
    "              lightRatio        = 0.5,                          # Flux threshold to select valid sub-subaperture\n",
    "              modulation        = 3,                            # Tip tilt modulation radius\n",
    "              n_pix_separation  = 4,                            # Number of pixel separating the different pupils\n",
    "              n_pix_edge        = 2,                            # Number of pixel on the edges of the pupils\n",
    "              postProcessing    = 'fullFrame_camera_flux')      # PWFS processing method\n",
    "\n",
    "# Propagate the light to the Wave-Front Sensor\n",
    "tel*wfs\n",
    "\n",
    "plt.close('all')\n",
    "plt.figure()\n",
    "plt.imshow(wfs.cam.frame)\n",
    "plt.title('WFS Camera Frame')\n",
    "plt.colorbar()\n",
    "\n",
    "plt.figure()\n",
    "plt.imshow(wfs.validSignal)\n",
    "plt.title('WFS Valid Signal')\n",
    "plt.colorbar()\n"
   ]
  },
  {
   "cell_type": "code",
   "execution_count": null,
   "metadata": {
    "colab": {
     "base_uri": "https://localhost:8080/",
     "height": 904
    },
    "id": "8I1ROZ-PV-Z4",
    "outputId": "513b026d-4511-4185-9487-1caa12727e4f"
   },
   "outputs": [],
   "source": [
    "# Applying noise to the WFS\n",
    "# Photon noise is either on or off. Read noise is specified in electrons\n",
    "wfs.cam.photonNoise = True\n",
    "wfs.cam.readNoise = 1\n",
    "ngs*tel*wfs\n",
    "\n",
    "plt.figure()\n",
    "plt.imshow(wfs.cam.frame); plt.colorbar()\n",
    "plt.title('WFS Camera Frame - With Noise')\n",
    "\n",
    "wfs.cam.photonNoise = False\n",
    "wfs.cam.readNoise = 0\n",
    "ngs*tel*wfs\n",
    "plt.figure()\n",
    "plt.imshow(wfs.cam.frame); plt.colorbar()\n",
    "plt.title('WFS Camera Frame - Without Noise')"
   ]
  },
  {
   "cell_type": "markdown",
   "metadata": {
    "id": "Qq8Moi6Ery8j"
   },
   "source": [
    "# Modal basis - KL modes"
   ]
  },
  {
   "cell_type": "code",
   "execution_count": null,
   "metadata": {
    "colab": {
     "base_uri": "https://localhost:8080/",
     "height": 525
    },
    "id": "gfn6dvjyrrD4",
    "outputId": "dbbe3195-5a3d-4e53-95f6-a9df443b9d14"
   },
   "outputs": [],
   "source": [
    "from OOPAO.calibration.compute_KL_modal_basis import compute_KL_basis\n",
    "# Use the default definition of the KL modes with forced Tip and Tilt. For more complex KL modes, consider the use of the compute_KL_basis function.\n",
    "M2C_KL = compute_KL_basis(tel, atm, dm,lim = 1e-2) # matrix to apply modes on the DM\n",
    "\n",
    "# Apply the 10 first KL modes\n",
    "dm.coefs = M2C_KL[:,:10]\n",
    "# Propagate through the DM\n",
    "ngs*tel*dm\n",
    "# Show the first 10 KL modes applied on the DM\n",
    "displayMap(tel.OPD)"
   ]
  },
  {
   "cell_type": "markdown",
   "metadata": {
    "id": "R95PSIq1CEGG"
   },
   "source": [
    "# Calibration"
   ]
  },
  {
   "cell_type": "code",
   "execution_count": null,
   "metadata": {
    "colab": {
     "base_uri": "https://localhost:8080/"
    },
    "id": "I67ptARJCHJi",
    "outputId": "305e29ca-4367-447f-d59c-3e735a4d94e8"
   },
   "outputs": [],
   "source": [
    "from OOPAO.calibration.InteractionMatrix import InteractionMatrix\n",
    "\n",
    "# Amplitude of the modes in m\n",
    "stroke=ngs.wavelength/16\n",
    "\n",
    "# Number of modes to control\n",
    "nModes = 160\n",
    "\n",
    "tel-atm\n",
    "# Zonal interaction matrix\n",
    "calib = InteractionMatrix(ngs            = ngs,\n",
    "                          atm            = atm,\n",
    "                          tel            = tel,\n",
    "                          dm             = dm,\n",
    "                          wfs            = wfs,\n",
    "                          M2C            = M2C_KL[:,:nModes],    # M2C matrix used\n",
    "                          stroke         = stroke,    # Stroke for the push/pull in M2C units\n",
    "                          nMeasurements  = 6,         # Number of simultaneous measurements\n",
    "                          noise          = 'off',     # Disable wfs.cam noise\n",
    "                          display        = True,      # Display the time using tqdm\n",
    "                          single_pass    = False)      # Only push to compute the interaction matrix instead of push-pull\n",
    "\n"
   ]
  },
  {
   "cell_type": "code",
   "execution_count": null,
   "metadata": {
    "colab": {
     "base_uri": "https://localhost:8080/",
     "height": 482
    },
    "id": "hxQZgQMDW6Vk",
    "outputId": "dba53935-b750-4211-9fd8-8b059d3c7311"
   },
   "outputs": [],
   "source": [
    "# Plot singular values and display WFS signals\n",
    "plt.figure()\n",
    "plt.plot(calib.eigenValues)\n",
    "plt.xlabel('Modes')\n",
    "plt.ylabel('Singular values')\n",
    "print('Conditioning number: '+str(calib.cond))"
   ]
  },
  {
   "cell_type": "markdown",
   "metadata": {
    "id": "R13FM-Bbu0Vs"
   },
   "source": [
    "# Closed loop"
   ]
  },
  {
   "cell_type": "code",
   "execution_count": null,
   "metadata": {
    "colab": {
     "base_uri": "https://localhost:8080/"
    },
    "id": "oPnPlyGsuzgw",
    "outputId": "e2a04fb0-57eb-4078-e708-abbaa3c57ea6"
   },
   "outputs": [],
   "source": [
    "# Closed loop parameters\n",
    "loopGain = 0.5\n",
    "nIter = 100           # Number of loop iterations\n",
    "\n",
    "# Reconstructor\n",
    "reconstructor = M2C_KL[:,:nModes]@calib.M\n",
    "\n",
    "# Set noise and guide star magnitude\n",
    "wfs.cam.photonNoise = True\n",
    "wfs.cam.readNoise = 1\n",
    "ngs.magnitude = 5\n",
    "\n",
    "# Allocate memory to save data\n",
    "strehl = np.zeros(nIter)          # Strehl ratio\n",
    "turb_rms = np.zeros(nIter)        # Turbulence rms\n",
    "res_rms = np.zeros(nIter)    # Residual rms\n"
   ]
  },
  {
   "cell_type": "code",
   "execution_count": null,
   "metadata": {
    "colab": {
     "base_uri": "https://localhost:8080/",
     "height": 1000
    },
    "id": "ps_IBDjDyJv_",
    "outputId": "6e3ef0ae-8fec-4660-f316-eea5230ba8bf"
   },
   "outputs": [],
   "source": [
    "# Closed loop\n",
    "\n",
    "# Reset telescope, atmosphere and DM\n",
    "tel.resetOPD()\n",
    "dm.coefs=0\n",
    "ngs*tel*dm*wfs\n",
    "atm.generateNewPhaseScreen(seed = 10)\n",
    "tel+atm\n",
    "wfsSignal = 0*wfs.signal;\n",
    "\n",
    "for n in range(0,nIter):\n",
    "\n",
    "    # Update atmosphere\n",
    "    atm.update()\n",
    "\n",
    "    # Save turbulent wavefront and PSF\n",
    "    turb_WF = tel.mean_removed_OPD.copy()\n",
    "    turb_PSF = tel.computePSF(zeroPaddingFactor = 6)\n",
    "    turb_rms[n]=np.sqrt(np.mean(turb_WF[np.where(tel.pupil>0)]**2))*1e9\n",
    "\n",
    "    # Propagate light from the NGS through the atmosphere, telescope, DM to the WFS\n",
    "    atm*ngs*tel*dm*wfs\n",
    "\n",
    "    # Save residual cwavefront and PSF\n",
    "    res_WF = tel.mean_removed_OPD.copy()\n",
    "    res_PSF = tel.computePSF(zeroPaddingFactor = 6)\n",
    "    res_rms[n]=np.sqrt(np.mean(res_WF[np.where(tel.pupil>0)]**2))*1e9\n",
    "\n",
    "    # Reconstruct and update DM commands\n",
    "    dm.coefs = dm.coefs-loopGain*(reconstructor@wfsSignal)\n",
    "\n",
    "    # Store WFS signals (for 2 frame delay)\n",
    "    wfsSignal = wfs.signal.copy()\n",
    "\n",
    "    print('Loop '+str(n)+'/'+str(nIter)+' -- turbulence: '+str(turb_rms[n])+' -- residual:' +str(res_rms[n]))\n",
    "\n",
    "\n",
    "# Plot results\n",
    "plt.figure()\n",
    "plt.plot(turb_rms)\n",
    "plt.plot(res_rms)\n",
    "plt.legend(['turbulence','residual'])\n",
    "plt.xlabel('Loop iteration')\n",
    "plt.ylabel('Wavefront rms [nm]')\n",
    "\n"
   ]
  }
 ],
 "metadata": {
  "colab": {
   "provenance": [],
   "toc_visible": true
  },
  "kernelspec": {
   "display_name": "Python 3 (ipykernel)",
   "language": "python",
   "name": "python3"
  },
  "language_info": {
   "codemirror_mode": {
    "name": "ipython",
    "version": 3
   },
   "file_extension": ".py",
   "mimetype": "text/x-python",
   "name": "python",
   "nbconvert_exporter": "python",
   "pygments_lexer": "ipython3",
   "version": "3.12.7"
  }
 },
 "nbformat": 4,
 "nbformat_minor": 4
}
